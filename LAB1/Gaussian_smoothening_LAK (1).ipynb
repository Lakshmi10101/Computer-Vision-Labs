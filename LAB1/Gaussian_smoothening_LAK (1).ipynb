{
  "nbformat": 4,
  "nbformat_minor": 0,
  "metadata": {
    "colab": {
      "provenance": []
    },
    "kernelspec": {
      "name": "python3",
      "display_name": "Python 3"
    },
    "language_info": {
      "name": "python"
    }
  },
  "cells": [
    {
      "cell_type": "code",
      "source": [
        "import os\n",
        "import zipfile\n",
        "import numpy as np"
      ],
      "metadata": {
        "id": "Ob9sc2pRwonB"
      },
      "execution_count": 2,
      "outputs": []
    },
    {
      "cell_type": "code",
      "execution_count": 4,
      "metadata": {
        "colab": {
          "base_uri": "https://localhost:8080/"
        },
        "id": "gngbntb2vdYn",
        "outputId": "3042084e-dcec-4675-efea-48bf49eb8820"
      },
      "outputs": [
        {
          "output_type": "stream",
          "name": "stdout",
          "text": [
            "File size 7.843085289001465 MB\n"
          ]
        }
      ],
      "source": [
        "f_name = 'Lab2.zip'\n",
        "print('File size', os.path.getsize(f_name) / 1024 / 1024, 'MB')"
      ]
    },
    {
      "cell_type": "code",
      "source": [
        "# To unzip the archive 'features.zip' in the current directory\n",
        "\n",
        "with zipfile.ZipFile(f_name, 'r') as fd:\n",
        "    fd.extractall('.')"
      ],
      "metadata": {
        "id": "aTyYRYT7wlGd"
      },
      "execution_count": 5,
      "outputs": []
    },
    {
      "cell_type": "code",
      "source": [
        "f_name2 = 'pybsds.zip'\n",
        "print('File size', os.path.getsize(f_name2) / 1024 / 1024, 'MB')"
      ],
      "metadata": {
        "colab": {
          "base_uri": "https://localhost:8080/"
        },
        "id": "zf1mCcpzwu6g",
        "outputId": "93613526-8eab-48a8-d08e-5f1d4473016f"
      },
      "execution_count": 7,
      "outputs": [
        {
          "output_type": "stream",
          "name": "stdout",
          "text": [
            "File size 0.01936817169189453 MB\n"
          ]
        }
      ]
    },
    {
      "cell_type": "code",
      "source": [
        "# To unzip the archive 'features.zip' in the current directory\n",
        "\n",
        "with zipfile.ZipFile(f_name2, 'r') as fd:\n",
        "    fd.extractall('.')"
      ],
      "metadata": {
        "id": "cmsJu2__w5-V"
      },
      "execution_count": 8,
      "outputs": []
    },
    {
      "cell_type": "markdown",
      "source": [
        "# Original countour_demo.py"
      ],
      "metadata": {
        "id": "jzAxjHxIw85N"
      }
    },
    {
      "cell_type": "code",
      "source": [
        "# Code from Saurabh Gupta\n",
        "from tqdm import tqdm\n",
        "import os, sys, numpy as np, cv2\n",
        "sys.path.insert(0, 'pybsds')\n",
        "from scipy import signal\n",
        "from skimage.util import img_as_float\n",
        "from skimage.io import imread\n",
        "from Lab2.contours.pybsds.bsds_dataset import BSDSDataset\n",
        "from Lab2.contours.pybsds import evaluate_boundaries\n",
        "import matplotlib\n",
        "matplotlib.use('Agg')\n",
        "from matplotlib import pyplot as plt\n",
        "import json\n",
        "import time\n",
        "from absl import flags, app\n",
        "from Lab2.contours.contour_plot import display_results\n",
        "\n",
        "from Lab2.contours.contour_solve import compute_edges_dxdy\n",
        "\n",
        "#FLAGS = flags.FLAGS\n",
        "#flags.DEFINE_string('output_dir', 'output/demo', 'directory to save results.')\n",
        "#flags.DEFINE_string('imset', 'val', 'image set to use for testing')\n",
        "\n",
        "N_THRESHOLDS = 99\n",
        "\n",
        "def get_imlist(imset):\n",
        "  imlist = np.loadtxt(f'Lab2/contours/data/{imset}/imlist')\n",
        "  return imlist.astype(np.int)\n",
        "\n",
        "def detect_edges(imlist, fn, out_dir):\n",
        "  total_time = 0\n",
        "  for imname in tqdm(imlist):\n",
        "    I = cv2.imread(os.path.join('Lab2/contours/data', 'val', 'images', str(imname)+'.jpg'))\n",
        "    start_time = time.time()\n",
        "    mag = fn(I)\n",
        "    total_time += time.time() - start_time\n",
        "    out_file_name = os.path.join(out_dir, str(imname)+'.png')\n",
        "    cv2.imwrite(out_file_name, mag)\n",
        "  return total_time / len(imlist)\n",
        "\n",
        "def load_gt_boundaries(imname):\n",
        "    gt_path = os.path.join('Lab2/contours/data', 'val', 'groundTruth', '{}.mat'.format(imname))\n",
        "    return BSDSDataset.load_boundaries(gt_path)\n",
        "\n",
        "def load_pred(output_dir, imname):\n",
        "    pred_path = os.path.join(output_dir, '{}.png'.format(imname))\n",
        "    return img_as_float(imread(pred_path))\n",
        "\n",
        "def save_results(out_file_name, threshold_results, overall_result, runtime):\n",
        "  res = np.array(threshold_results)\n",
        "  recall = res[:,1]\n",
        "  precision = res[recall>0.01,2]\n",
        "  recall = recall[recall>0.01]\n",
        "  threshold = overall_result.threshold\n",
        "  f1 = overall_result.f1\n",
        "  best_f1 = overall_result.best_f1\n",
        "  area_pr = overall_result.area_pr\n",
        "  np.savez(out_file_name, precision=precision, recall=recall,\n",
        "           area_pr=area_pr, best_f1=best_f1, f1=f1, runtime=runtime,\n",
        "           threshold=threshold)\n",
        "  return threshold, precision, recall, f1, best_f1, area_pr\n",
        "\n",
        "def main():\n",
        "  fn = compute_edges_dxdy\n",
        "  imlist = get_imlist('val')\n",
        "\n",
        "  output_dir = 'output/demo'\n",
        "  if not os.path.exists(output_dir):\n",
        "    os.makedirs(output_dir)\n",
        "\n",
        "  bench_dir = os.path.join('output/demo', 'bench')\n",
        "  if not os.path.exists(bench_dir):\n",
        "    os.makedirs(bench_dir)\n",
        "\n",
        "  print('Running detector:')\n",
        "  runtime = detect_edges(imlist, fn, bench_dir)\n",
        "\n",
        "  print('Evaluating:')\n",
        "  sample_results, threshold_results, overall_result = \\\n",
        "    evaluate_boundaries.pr_evaluation(N_THRESHOLDS, imlist,\n",
        "                                      load_gt_boundaries,\n",
        "                                      lambda x: load_pred(bench_dir, x),\n",
        "                                      fast=True, progress=tqdm)\n",
        "  print('Save results:')\n",
        "  out_file_name = os.path.join('output/demo', 'metrics.npz')\n",
        "  threshold, precision, recall, f1, best_f1, area_pr = \\\n",
        "    save_results(out_file_name, threshold_results, overall_result, runtime)\n",
        "\n",
        "  fig = plt.figure(figsize=(6,6))\n",
        "  ax = fig.gca()\n",
        "  display_results(ax, 'output/demo', threshold, precision, recall, f1, best_f1, area_pr)\n",
        "  print('{:>24s}: {:<10.6f}'.format('runtime (in seconds)', runtime))\n",
        "\n",
        "  fig.savefig(os.path.join(output_dir + '_pr.pdf'), bbox_inches='tight')\n",
        "\n",
        "#if __name__ == '__main__':\n",
        " # app.run(main)\n"
      ],
      "metadata": {
        "id": "OjXjLtFRw6Bg"
      },
      "execution_count": 15,
      "outputs": []
    },
    {
      "cell_type": "code",
      "source": [
        "main()"
      ],
      "metadata": {
        "colab": {
          "base_uri": "https://localhost:8080/"
        },
        "id": "pcPECvnLxA9G",
        "outputId": "d6ff1818-a219-4aaf-af97-84773575e2ee"
      },
      "execution_count": 16,
      "outputs": [
        {
          "output_type": "stream",
          "name": "stderr",
          "text": [
            "<ipython-input-15-576415080106>:28: DeprecationWarning: `np.int` is a deprecated alias for the builtin `int`. To silence this warning, use `int` by itself. Doing this will not modify any behavior and is safe. When replacing `np.int`, you may wish to use e.g. `np.int64` or `np.int32` to specify the precision. If you wish to review your current use, check the release note link for additional information.\n",
            "Deprecated in NumPy 1.20; for more details and guidance: https://numpy.org/devdocs/release/1.20.0-notes.html#deprecations\n",
            "  return imlist.astype(np.int)\n"
          ]
        },
        {
          "output_type": "stream",
          "name": "stdout",
          "text": [
            "Running detector:\n"
          ]
        },
        {
          "output_type": "stream",
          "name": "stderr",
          "text": [
            "100%|██████████| 50/50 [00:00<00:00, 61.41it/s]\n"
          ]
        },
        {
          "output_type": "stream",
          "name": "stdout",
          "text": [
            "Evaluating:\n"
          ]
        },
        {
          "output_type": "stream",
          "name": "stderr",
          "text": [
            "100%|██████████| 50/50 [02:07<00:00,  2.55s/it]\n"
          ]
        },
        {
          "output_type": "stream",
          "name": "stdout",
          "text": [
            "Save results:\n",
            "               threshold: 0.140000  \n",
            "    overall max F1 score: 0.518496  \n",
            "    average max F1 score: 0.556084  \n",
            "                      AP: 0.426090  \n",
            "    runtime (in seconds): 0.009928  \n"
          ]
        }
      ]
    },
    {
      "cell_type": "markdown",
      "source": [
        "# Question 3  - Gaussian Blur"
      ],
      "metadata": {
        "id": "pr4TLJme9Err"
      }
    },
    {
      "cell_type": "markdown",
      "source": [
        "**contour_solve.py**"
      ],
      "metadata": {
        "id": "GOuGLYM69JVh"
      }
    },
    {
      "cell_type": "code",
      "source": [
        "import numpy as np\n",
        "from scipy import signal\n",
        "import cv2\n",
        "\n",
        "def compute_edges_dxdy(I):\n",
        "  \"\"\"Returns the norm of dx and dy as the edge response function.\"\"\"\n",
        "  I = cv2.cvtColor(I, cv2.COLOR_BGR2GRAY)\n",
        "  I = I.astype(np.float32)/255.\n",
        "\n",
        "  I_smoothened = cv2.GaussianBlur(I, (0, 0), sigmaX = 0 .5, sigmaY = 0.5)\n",
        "\n",
        "  dx = signal.convolve2d(I, np.array([[-1, 0, 1], [-1, 0, 1], [-1, 0, 1]]), mode='same')\n",
        "  dy = signal.convolve2d(I, np.array([[-1, 0, 1], [-1, 0, 1], [-1, 0, 1]]).T, mode='same')\n",
        "  mag = np.sqrt(dx**2 + dy**2)\n",
        "  mag = mag / 1.5\n",
        "  mag = mag * 255.\n",
        "  mag = np.clip(mag, 0, 255)\n",
        "  mag = mag.astype(np.uint8)\n",
        "  return mag\n"
      ],
      "metadata": {
        "id": "hmio0Jk05pTP"
      },
      "execution_count": null,
      "outputs": []
    },
    {
      "cell_type": "code",
      "source": [
        "# Code from Saurabh Gupta\n",
        "from tqdm import tqdm\n",
        "import os, sys, numpy as np, cv2\n",
        "sys.path.insert(0, 'pybsds')\n",
        "from scipy import signal\n",
        "from skimage.util import img_as_float\n",
        "from skimage.io import imread\n",
        "from Lab2.contours.pybsds.bsds_dataset import BSDSDataset\n",
        "from Lab2.contours.pybsds import evaluate_boundaries\n",
        "import matplotlib\n",
        "matplotlib.use('Agg')\n",
        "from matplotlib import pyplot as plt\n",
        "import json\n",
        "import time\n",
        "from absl import flags, app\n",
        "from Lab2.contours.contour_plot import display_results\n",
        "\n",
        "from Lab2.contours.contour_solve import compute_edges_dxdy\n",
        "\n",
        "#FLAGS = flags.FLAGS\n",
        "#flags.DEFINE_string('output_dir', 'output/demo', 'directory to save results.')\n",
        "#flags.DEFINE_string('imset', 'val', 'image set to use for testing')\n",
        "\n",
        "N_THRESHOLDS = 99\n",
        "\n",
        "def get_imlist(imset):\n",
        "  imlist = np.loadtxt(f'Lab2/contours/data/{imset}/imlist')\n",
        "  return imlist.astype(np.int)\n",
        "\n",
        "def detect_edges(imlist, fn, out_dir):\n",
        "  total_time = 0\n",
        "  for imname in tqdm(imlist):\n",
        "    I = cv2.imread(os.path.join('Lab2/contours/data', 'val', 'images', str(imname)+'.jpg'))\n",
        "    start_time = time.time()\n",
        "    mag = fn(I)\n",
        "    total_time += time.time() - start_time\n",
        "    out_file_name = os.path.join(out_dir, str(imname)+'.png')\n",
        "    cv2.imwrite(out_file_name, mag)\n",
        "  return total_time / len(imlist)\n",
        "\n",
        "def load_gt_boundaries(imname):\n",
        "    gt_path = os.path.join('Lab2/contours/data', 'val', 'groundTruth', '{}.mat'.format(imname))\n",
        "    return BSDSDataset.load_boundaries(gt_path)\n",
        "\n",
        "def load_pred(output_dir, imname):\n",
        "    pred_path = os.path.join(output_dir, '{}.png'.format(imname))\n",
        "    return img_as_float(imread(pred_path))\n",
        "\n",
        "def save_results(out_file_name, threshold_results, overall_result, runtime):\n",
        "  res = np.array(threshold_results)\n",
        "  recall = res[:,1]\n",
        "  precision = res[recall>0.01,2]\n",
        "  recall = recall[recall>0.01]\n",
        "  threshold = overall_result.threshold\n",
        "  f1 = overall_result.f1\n",
        "  best_f1 = overall_result.best_f1\n",
        "  area_pr = overall_result.area_pr\n",
        "  np.savez(out_file_name, precision=precision, recall=recall,\n",
        "           area_pr=area_pr, best_f1=best_f1, f1=f1, runtime=runtime,\n",
        "           threshold=threshold)\n",
        "  return threshold, precision, recall, f1, best_f1, area_pr\n",
        "\n",
        "def main():\n",
        "  fn = compute_edges_dxdy\n",
        "  imlist = get_imlist('val')\n",
        "\n",
        "  output_dir = 'output/demo'\n",
        "  if not os.path.exists(output_dir):\n",
        "    os.makedirs(output_dir)\n",
        "\n",
        "  bench_dir = os.path.join('output/demo', 'bench')\n",
        "  if not os.path.exists(bench_dir):\n",
        "    os.makedirs(bench_dir)\n",
        "\n",
        "  print('Running detector:')\n",
        "  runtime = detect_edges(imlist, fn, bench_dir)\n",
        "\n",
        "  print('Evaluating:')\n",
        "  sample_results, threshold_results, overall_result = \\\n",
        "    evaluate_boundaries.pr_evaluation(N_THRESHOLDS, imlist,\n",
        "                                      load_gt_boundaries,\n",
        "                                      lambda x: load_pred(bench_dir, x),\n",
        "                                      fast=True, progress=tqdm)\n",
        "  print('Save results:')\n",
        "  out_file_name = os.path.join('output/demo', 'metrics.npz')\n",
        "  threshold, precision, recall, f1, best_f1, area_pr = \\\n",
        "    save_results(out_file_name, threshold_results, overall_result, runtime)\n",
        "\n",
        "  fig = plt.figure(figsize=(6,6))\n",
        "  ax = fig.gca()\n",
        "  display_results(ax, 'output/demo', threshold, precision, recall, f1, best_f1, area_pr)\n",
        "  print('{:>24s}: {:<10.6f}'.format('runtime (in seconds)', runtime))\n",
        "\n",
        "  fig.savefig(os.path.join(output_dir + '_pr.pdf'), bbox_inches='tight')\n",
        "\n",
        "#if __name__ == '__main__':\n",
        " # app.run(main)\n"
      ],
      "metadata": {
        "id": "Q-kPLlhz9kYo"
      },
      "execution_count": 25,
      "outputs": []
    },
    {
      "cell_type": "code",
      "source": [
        "main()"
      ],
      "metadata": {
        "colab": {
          "base_uri": "https://localhost:8080/"
        },
        "id": "-KEp75X09lJQ",
        "outputId": "94481b3b-8a1c-40a6-89b0-4593d3f88de9"
      },
      "execution_count": 26,
      "outputs": [
        {
          "output_type": "stream",
          "name": "stderr",
          "text": [
            "<ipython-input-25-576415080106>:28: DeprecationWarning: `np.int` is a deprecated alias for the builtin `int`. To silence this warning, use `int` by itself. Doing this will not modify any behavior and is safe. When replacing `np.int`, you may wish to use e.g. `np.int64` or `np.int32` to specify the precision. If you wish to review your current use, check the release note link for additional information.\n",
            "Deprecated in NumPy 1.20; for more details and guidance: https://numpy.org/devdocs/release/1.20.0-notes.html#deprecations\n",
            "  return imlist.astype(np.int)\n"
          ]
        },
        {
          "output_type": "stream",
          "name": "stdout",
          "text": [
            "Running detector:\n"
          ]
        },
        {
          "output_type": "stream",
          "name": "stderr",
          "text": [
            "100%|██████████| 50/50 [00:00<00:00, 92.57it/s]\n"
          ]
        },
        {
          "output_type": "stream",
          "name": "stdout",
          "text": [
            "Evaluating:\n"
          ]
        },
        {
          "output_type": "stream",
          "name": "stderr",
          "text": [
            "100%|██████████| 50/50 [02:04<00:00,  2.49s/it]"
          ]
        },
        {
          "output_type": "stream",
          "name": "stdout",
          "text": [
            "Save results:\n",
            "               threshold: 0.140000  \n",
            "    overall max F1 score: 0.518496  \n",
            "    average max F1 score: 0.556084  \n",
            "                      AP: 0.426090  \n",
            "    runtime (in seconds): 0.005991  \n"
          ]
        },
        {
          "output_type": "stream",
          "name": "stderr",
          "text": [
            "\n"
          ]
        }
      ]
    },
    {
      "cell_type": "code",
      "source": [
        "from google.colab import drive\n",
        "\n",
        "# Mount Google Drive\n",
        "drive.mount('/content/drive')"
      ],
      "metadata": {
        "colab": {
          "base_uri": "https://localhost:8080/"
        },
        "id": "qbDZZqZjN7Bm",
        "outputId": "d3f4bac4-be9b-4911-e8df-4f3f29b0f5fe"
      },
      "execution_count": 30,
      "outputs": [
        {
          "output_type": "stream",
          "name": "stdout",
          "text": [
            "Drive already mounted at /content/drive; to attempt to forcibly remount, call drive.mount(\"/content/drive\", force_remount=True).\n"
          ]
        }
      ]
    },
    {
      "cell_type": "code",
      "source": [
        "import shutil\n",
        "\n",
        "# Source folder in Colab workspace\n",
        "source_folder = '/content/Lab2'\n",
        "\n",
        "# Destination folder in Google Drive\n",
        "destination_folder = '/content/drive/MyDrive/Lab2_LAK'\n",
        "\n",
        "# Copy the entire folder to Google Drive\n",
        "shutil.copytree(source_folder, destination_folder)\n"
      ],
      "metadata": {
        "colab": {
          "base_uri": "https://localhost:8080/",
          "height": 36
        },
        "id": "lG6LCMj3Oxir",
        "outputId": "ec834cc5-d4f5-43e6-d7b9-621d7aec5554"
      },
      "execution_count": 32,
      "outputs": [
        {
          "output_type": "execute_result",
          "data": {
            "text/plain": [
              "'/content/drive/MyDrive/Lab2_LAK'"
            ],
            "application/vnd.google.colaboratory.intrinsic+json": {
              "type": "string"
            }
          },
          "metadata": {},
          "execution_count": 32
        }
      ]
    },
    {
      "cell_type": "code",
      "source": [],
      "metadata": {
        "id": "JwcRwDRqPA0-"
      },
      "execution_count": null,
      "outputs": []
    }
  ]
}