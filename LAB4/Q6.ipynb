{
  "nbformat": 4,
  "nbformat_minor": 0,
  "metadata": {
    "colab": {
      "provenance": []
    },
    "kernelspec": {
      "name": "python3",
      "display_name": "Python 3"
    },
    "language_info": {
      "name": "python"
    }
  },
  "cells": [
    {
      "cell_type": "code",
      "execution_count": null,
      "metadata": {
        "id": "z210ImYy8bW5"
      },
      "outputs": [],
      "source": [
        "import cv2\n",
        "\n",
        "# Load an image\n",
        "img1 = cv2.imread('image1.jpg')\n",
        "gray1 = cv2.cvtColor(img1, cv2.COLOR_BGR2GRAY)\n",
        "\n",
        "# Create a SIFT object\n",
        "sift1 = cv2.SIFT_create()\n",
        "\n",
        "# Detect keypoints and compute descriptors\n",
        "keypoint1s, descriptors1 = sift.detectAndCompute(gray1, None)\n"
      ]
    },
    {
      "cell_type": "code",
      "source": [
        "# Load an image\n",
        "img2 = cv2.imread('image2.jpg')\n",
        "gray2 = cv2.cvtColor(img2, cv2.COLOR_BGR2GRAY)\n",
        "\n",
        "# Create a SIFT object\n",
        "sift2 = cv2.SIFT_create()\n",
        "\n",
        "# Detect keypoints and compute descriptors\n",
        "keypoints2, descriptors2 = sift.detectAndCompute(gray2, None)\n"
      ],
      "metadata": {
        "id": "_Y8hbHL0826D"
      },
      "execution_count": null,
      "outputs": []
    },
    {
      "cell_type": "code",
      "source": [
        "# Create FLANN matcher\n",
        "FLANN_INDEX_KDTREE = 1\n",
        "index_params = dict(algorithm=FLANN_INDEX_KDTREE, trees=5)\n",
        "search_params = dict(checks=50)\n",
        "flann = cv2.FlannBasedMatcher(index_params, search_params)\n",
        "\n",
        "# Match descriptors of two consecutive images\n",
        "matches = flann.knnMatch(descriptors1, descriptors2, k=2)\n",
        "\n",
        "# Apply ratio test to find good matches\n",
        "good_matches = []\n",
        "for m, n in matches:\n",
        "    # Extract distances\n",
        "    d1 = m.distance\n",
        "    d2 = n.distance\n",
        "\n",
        "    # Calculate NNDR\n",
        "    NNDR = d1 / d2\n",
        "\n",
        "    # Define a threshold for NNDR\n",
        "    NNDR_threshold = 0.7\n",
        "\n",
        "    # Check if the match satisfies the NNDR condition\n",
        "    if NNDR < NNDR_threshold:\n",
        "        good_matches.append(m)"
      ],
      "metadata": {
        "id": "YcmXDBUZ8b6T"
      },
      "execution_count": null,
      "outputs": []
    }
  ]
}